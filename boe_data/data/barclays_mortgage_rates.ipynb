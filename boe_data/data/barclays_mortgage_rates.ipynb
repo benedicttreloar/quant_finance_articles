{
 "cells": [
  {
   "cell_type": "code",
   "outputs": [],
   "source": [
    "### BOE Data API\n",
    "import requests\n",
    "import os\n",
    "import io\n",
    "import pandas as pd\n",
    "import matplotlib.pyplot as plt\n",
    "import tabula"
   ],
   "metadata": {
    "collapsed": false,
    "ExecuteTime": {
     "end_time": "2024-07-21T10:10:45.097602Z",
     "start_time": "2024-07-21T10:10:43.794630Z"
    }
   },
   "id": "9ab98a3e5db1173d",
   "execution_count": 1
  },
  {
   "cell_type": "code",
   "execution_count": 2,
   "id": "initial_id",
   "metadata": {
    "collapsed": true,
    "ExecuteTime": {
     "end_time": "2024-07-21T10:10:45.101749Z",
     "start_time": "2024-07-21T10:10:45.098604Z"
    }
   },
   "outputs": [],
   "source": [
    "pdf_file_path = r\"D:\\Users\\bened\\Downloads\\residential-and-buy-to-let-rates (1).pdf\""
   ]
  },
  {
   "cell_type": "code",
   "outputs": [
    {
     "ename": "JVMNotFoundException",
     "evalue": "No JVM shared library file (jvm.dll) found. Try setting up the JAVA_HOME environment variable properly.",
     "output_type": "error",
     "traceback": [
      "\u001B[1;31m---------------------------------------------------------------------------\u001B[0m",
      "\u001B[1;31mJVMNotFoundException\u001B[0m                      Traceback (most recent call last)",
      "Cell \u001B[1;32mIn[3], line 1\u001B[0m\n\u001B[1;32m----> 1\u001B[0m tables \u001B[38;5;241m=\u001B[39m \u001B[43mtabula\u001B[49m\u001B[38;5;241;43m.\u001B[39;49m\u001B[43mread_pdf\u001B[49m\u001B[43m(\u001B[49m\u001B[43mpdf_file_path\u001B[49m\u001B[43m,\u001B[49m\u001B[43m \u001B[49m\u001B[43mpages\u001B[49m\u001B[38;5;241;43m=\u001B[39;49m\u001B[38;5;124;43m'\u001B[39;49m\u001B[38;5;124;43mall\u001B[39;49m\u001B[38;5;124;43m'\u001B[39;49m\u001B[43m)\u001B[49m\n",
      "File \u001B[1;32m~\\PycharmProjects\\quant_finance_blog\\.venv\\Lib\\site-packages\\tabula\\io.py:400\u001B[0m, in \u001B[0;36mread_pdf\u001B[1;34m(input_path, output_format, encoding, java_options, pandas_options, multiple_tables, user_agent, use_raw_url, pages, guess, area, relative_area, lattice, stream, password, silent, columns, relative_columns, format, batch, output_path, force_subprocess, options)\u001B[0m\n\u001B[0;32m    397\u001B[0m     \u001B[38;5;28;01mraise\u001B[39;00m \u001B[38;5;167;01mValueError\u001B[39;00m(\u001B[38;5;124mf\u001B[39m\u001B[38;5;124m\"\u001B[39m\u001B[38;5;132;01m{\u001B[39;00mpath\u001B[38;5;132;01m}\u001B[39;00m\u001B[38;5;124m is empty. Check the file, or download it manually.\u001B[39m\u001B[38;5;124m\"\u001B[39m)\n\u001B[0;32m    399\u001B[0m \u001B[38;5;28;01mtry\u001B[39;00m:\n\u001B[1;32m--> 400\u001B[0m     output \u001B[38;5;241m=\u001B[39m \u001B[43m_run\u001B[49m\u001B[43m(\u001B[49m\n\u001B[0;32m    401\u001B[0m \u001B[43m        \u001B[49m\u001B[43mtabula_options\u001B[49m\u001B[43m,\u001B[49m\n\u001B[0;32m    402\u001B[0m \u001B[43m        \u001B[49m\u001B[43mjava_options\u001B[49m\u001B[43m,\u001B[49m\n\u001B[0;32m    403\u001B[0m \u001B[43m        \u001B[49m\u001B[43mpath\u001B[49m\u001B[43m,\u001B[49m\n\u001B[0;32m    404\u001B[0m \u001B[43m        \u001B[49m\u001B[43mencoding\u001B[49m\u001B[38;5;241;43m=\u001B[39;49m\u001B[43mencoding\u001B[49m\u001B[43m,\u001B[49m\n\u001B[0;32m    405\u001B[0m \u001B[43m        \u001B[49m\u001B[43mforce_subprocess\u001B[49m\u001B[38;5;241;43m=\u001B[39;49m\u001B[43mforce_subprocess\u001B[49m\u001B[43m,\u001B[49m\n\u001B[0;32m    406\u001B[0m \u001B[43m    \u001B[49m\u001B[43m)\u001B[49m\n\u001B[0;32m    407\u001B[0m \u001B[38;5;28;01mfinally\u001B[39;00m:\n\u001B[0;32m    408\u001B[0m     \u001B[38;5;28;01mif\u001B[39;00m temporary:\n",
      "File \u001B[1;32m~\\PycharmProjects\\quant_finance_blog\\.venv\\Lib\\site-packages\\tabula\\io.py:74\u001B[0m, in \u001B[0;36m_run\u001B[1;34m(options, java_options, path, encoding, force_subprocess)\u001B[0m\n\u001B[0;32m     69\u001B[0m     _tabula_vm \u001B[38;5;241m=\u001B[39m SubprocessTabula(\n\u001B[0;32m     70\u001B[0m         java_options\u001B[38;5;241m=\u001B[39mjava_options, silent\u001B[38;5;241m=\u001B[39moptions\u001B[38;5;241m.\u001B[39msilent, encoding\u001B[38;5;241m=\u001B[39mencoding\n\u001B[0;32m     71\u001B[0m     )\n\u001B[0;32m     73\u001B[0m \u001B[38;5;28;01mif\u001B[39;00m \u001B[38;5;129;01mnot\u001B[39;00m _tabula_vm:\n\u001B[1;32m---> 74\u001B[0m     _tabula_vm \u001B[38;5;241m=\u001B[39m \u001B[43mTabulaVm\u001B[49m\u001B[43m(\u001B[49m\u001B[43mjava_options\u001B[49m\u001B[38;5;241;43m=\u001B[39;49m\u001B[43mjava_options\u001B[49m\u001B[43m,\u001B[49m\u001B[43m \u001B[49m\u001B[43msilent\u001B[49m\u001B[38;5;241;43m=\u001B[39;49m\u001B[43moptions\u001B[49m\u001B[38;5;241;43m.\u001B[39;49m\u001B[43msilent\u001B[49m\u001B[43m)\u001B[49m\n\u001B[0;32m     75\u001B[0m     \u001B[38;5;28;01mif\u001B[39;00m _tabula_vm \u001B[38;5;129;01mand\u001B[39;00m \u001B[38;5;129;01mnot\u001B[39;00m _tabula_vm\u001B[38;5;241m.\u001B[39mtabula:\n\u001B[0;32m     76\u001B[0m         _tabula_vm \u001B[38;5;241m=\u001B[39m SubprocessTabula(\n\u001B[0;32m     77\u001B[0m             java_options\u001B[38;5;241m=\u001B[39mjava_options, silent\u001B[38;5;241m=\u001B[39moptions\u001B[38;5;241m.\u001B[39msilent, encoding\u001B[38;5;241m=\u001B[39mencoding\n\u001B[0;32m     78\u001B[0m         )\n",
      "File \u001B[1;32m~\\PycharmProjects\\quant_finance_blog\\.venv\\Lib\\site-packages\\tabula\\backend.py:45\u001B[0m, in \u001B[0;36mTabulaVm.__init__\u001B[1;34m(self, java_options, silent)\u001B[0m\n\u001B[0;32m     36\u001B[0m     \u001B[38;5;28;01mif\u001B[39;00m silent:\n\u001B[0;32m     37\u001B[0m         java_options\u001B[38;5;241m.\u001B[39mextend(\n\u001B[0;32m     38\u001B[0m             (\n\u001B[0;32m     39\u001B[0m                 \u001B[38;5;124m\"\u001B[39m\u001B[38;5;124m-Dorg.slf4j.simpleLogger.defaultLogLevel=off\u001B[39m\u001B[38;5;124m\"\u001B[39m,\n\u001B[1;32m   (...)\u001B[0m\n\u001B[0;32m     42\u001B[0m             )\n\u001B[0;32m     43\u001B[0m         )\n\u001B[1;32m---> 45\u001B[0m     \u001B[43mjpype\u001B[49m\u001B[38;5;241;43m.\u001B[39;49m\u001B[43mstartJVM\u001B[49m\u001B[43m(\u001B[49m\u001B[38;5;241;43m*\u001B[39;49m\u001B[43mjava_options\u001B[49m\u001B[43m,\u001B[49m\u001B[43m \u001B[49m\u001B[43mconvertStrings\u001B[49m\u001B[38;5;241;43m=\u001B[39;49m\u001B[38;5;28;43;01mFalse\u001B[39;49;00m\u001B[43m)\u001B[49m\n\u001B[0;32m     47\u001B[0m \u001B[38;5;28;01mimport\u001B[39;00m \u001B[38;5;21;01mjava\u001B[39;00m\u001B[38;5;21;01m.\u001B[39;00m\u001B[38;5;21;01mlang\u001B[39;00m \u001B[38;5;28;01mas\u001B[39;00m \u001B[38;5;21;01mlang\u001B[39;00m\n\u001B[0;32m     48\u001B[0m \u001B[38;5;28;01mimport\u001B[39;00m \u001B[38;5;21;01mtechnology\u001B[39;00m\u001B[38;5;21;01m.\u001B[39;00m\u001B[38;5;21;01mtabula\u001B[39;00m \u001B[38;5;28;01mas\u001B[39;00m \u001B[38;5;21;01mtabula\u001B[39;00m\n",
      "File \u001B[1;32m~\\PycharmProjects\\quant_finance_blog\\.venv\\Lib\\site-packages\\jpype\\_core.py:219\u001B[0m, in \u001B[0;36mstartJVM\u001B[1;34m(jvmpath, classpath, ignoreUnrecognized, convertStrings, interrupt, *jvmargs)\u001B[0m\n\u001B[0;32m    216\u001B[0m         jvmargs \u001B[38;5;241m=\u001B[39m jvmargs[\u001B[38;5;241m1\u001B[39m:]\n\u001B[0;32m    218\u001B[0m \u001B[38;5;28;01mif\u001B[39;00m \u001B[38;5;129;01mnot\u001B[39;00m jvmpath:\n\u001B[1;32m--> 219\u001B[0m     jvmpath \u001B[38;5;241m=\u001B[39m \u001B[43mgetDefaultJVMPath\u001B[49m\u001B[43m(\u001B[49m\u001B[43m)\u001B[49m\n\u001B[0;32m    220\u001B[0m \u001B[38;5;28;01melse\u001B[39;00m:\n\u001B[0;32m    221\u001B[0m     \u001B[38;5;66;03m# Allow the path to be a PathLike.\u001B[39;00m\n\u001B[0;32m    222\u001B[0m     jvmpath \u001B[38;5;241m=\u001B[39m os\u001B[38;5;241m.\u001B[39mfspath(jvmpath)\n",
      "File \u001B[1;32m~\\PycharmProjects\\quant_finance_blog\\.venv\\Lib\\site-packages\\jpype\\_jvmfinder.py:74\u001B[0m, in \u001B[0;36mgetDefaultJVMPath\u001B[1;34m()\u001B[0m\n\u001B[0;32m     72\u001B[0m \u001B[38;5;28;01melse\u001B[39;00m:\n\u001B[0;32m     73\u001B[0m     finder \u001B[38;5;241m=\u001B[39m LinuxJVMFinder()\n\u001B[1;32m---> 74\u001B[0m \u001B[38;5;28;01mreturn\u001B[39;00m \u001B[43mfinder\u001B[49m\u001B[38;5;241;43m.\u001B[39;49m\u001B[43mget_jvm_path\u001B[49m\u001B[43m(\u001B[49m\u001B[43m)\u001B[49m\n",
      "File \u001B[1;32m~\\PycharmProjects\\quant_finance_blog\\.venv\\Lib\\site-packages\\jpype\\_jvmfinder.py:212\u001B[0m, in \u001B[0;36mJVMFinder.get_jvm_path\u001B[1;34m(self)\u001B[0m\n\u001B[0;32m    210\u001B[0m \u001B[38;5;28;01mif\u001B[39;00m jvm_notsupport_ext \u001B[38;5;129;01mis\u001B[39;00m \u001B[38;5;129;01mnot\u001B[39;00m \u001B[38;5;28;01mNone\u001B[39;00m:\n\u001B[0;32m    211\u001B[0m     \u001B[38;5;28;01mraise\u001B[39;00m jvm_notsupport_ext\n\u001B[1;32m--> 212\u001B[0m \u001B[38;5;28;01mraise\u001B[39;00m JVMNotFoundException(\u001B[38;5;124m\"\u001B[39m\u001B[38;5;124mNo JVM shared library file (\u001B[39m\u001B[38;5;132;01m{0}\u001B[39;00m\u001B[38;5;124m) \u001B[39m\u001B[38;5;124m\"\u001B[39m\n\u001B[0;32m    213\u001B[0m                            \u001B[38;5;124m\"\u001B[39m\u001B[38;5;124mfound. Try setting up the JAVA_HOME \u001B[39m\u001B[38;5;124m\"\u001B[39m\n\u001B[0;32m    214\u001B[0m                            \u001B[38;5;124m\"\u001B[39m\u001B[38;5;124menvironment variable properly.\u001B[39m\u001B[38;5;124m\"\u001B[39m\n\u001B[0;32m    215\u001B[0m                            \u001B[38;5;241m.\u001B[39mformat(\u001B[38;5;28mself\u001B[39m\u001B[38;5;241m.\u001B[39m_libfile))\n",
      "\u001B[1;31mJVMNotFoundException\u001B[0m: No JVM shared library file (jvm.dll) found. Try setting up the JAVA_HOME environment variable properly."
     ]
    }
   ],
   "source": [
    "tables = tabula.read_pdf(pdf_file_path, pages='all')"
   ],
   "metadata": {
    "collapsed": false,
    "ExecuteTime": {
     "end_time": "2024-07-21T10:10:45.575488Z",
     "start_time": "2024-07-21T10:10:45.103263Z"
    }
   },
   "id": "1110db25b57f8aa2",
   "execution_count": 3
  },
  {
   "cell_type": "code",
   "outputs": [],
   "source": [
    "def pdf_to_excel(pdf_file_path):\n",
    "    # Read PDF file\n",
    "    tables = tabula.read_pdf(pdf_file_path, pages='all')\n",
    "\n",
    "    # Write each table to a separate sheet in the Excel file\n",
    "    for i, table in enumerate(tables):\n",
    "        print(table.head())\n",
    "        \n",
    "pdf_to_excel(pdf_file_path)"
   ],
   "metadata": {
    "collapsed": false,
    "ExecuteTime": {
     "end_time": "2024-07-21T10:10:45.577489Z",
     "start_time": "2024-07-21T10:10:45.577489Z"
    }
   },
   "id": "d611fe90778bc227",
   "execution_count": null
  }
 ],
 "metadata": {
  "kernelspec": {
   "display_name": "Python 3",
   "language": "python",
   "name": "python3"
  },
  "language_info": {
   "codemirror_mode": {
    "name": "ipython",
    "version": 2
   },
   "file_extension": ".py",
   "mimetype": "text/x-python",
   "name": "python",
   "nbconvert_exporter": "python",
   "pygments_lexer": "ipython2",
   "version": "2.7.6"
  }
 },
 "nbformat": 4,
 "nbformat_minor": 5
}

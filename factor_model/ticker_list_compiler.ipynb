{
 "cells": [
  {
   "cell_type": "code",
   "id": "initial_id",
   "metadata": {
    "collapsed": true,
    "ExecuteTime": {
     "end_time": "2024-07-30T19:15:55.151236Z",
     "start_time": "2024-07-30T19:15:54.547251Z"
    }
   },
   "source": [
    "import pandas as pd\n",
    "import numpy as np\n",
    "from tqdm import tqdm\n",
    "import itertools"
   ],
   "outputs": [],
   "execution_count": 2
  },
  {
   "metadata": {
    "ExecuteTime": {
     "end_time": "2024-07-30T19:15:55.263279Z",
     "start_time": "2024-07-30T19:15:55.151236Z"
    }
   },
   "cell_type": "code",
   "source": [
    "import requests\n",
    "import string\n",
    "import json\n",
    "from ratelimit import limits, sleep_and_retry"
   ],
   "id": "84a1ea51e221f145",
   "outputs": [],
   "execution_count": 3
  },
  {
   "metadata": {
    "ExecuteTime": {
     "end_time": "2024-07-30T19:15:55.269825Z",
     "start_time": "2024-07-30T19:15:55.264337Z"
    }
   },
   "cell_type": "code",
   "source": "from factor_model.code.passwords import alphavantage_api",
   "id": "2aa400713fc0afc0",
   "outputs": [],
   "execution_count": 4
  },
  {
   "metadata": {
    "ExecuteTime": {
     "end_time": "2024-07-30T19:15:55.275506Z",
     "start_time": "2024-07-30T19:15:55.271835Z"
    }
   },
   "cell_type": "code",
   "source": [
    "@sleep_and_retry\n",
    "@limits(calls=74, period=60)\n",
    "def alphavantage_request(**kwargs):\n",
    "    \n",
    "    payload = ''.join([f'{key}={value}&' for key, value in kwargs.items()])\n",
    "    url = f'https://www.alphavantage.co/query?{payload}&apikey={alphavantage_api}'\n",
    "    r = requests.get(url)\n",
    "    return r.json()    \n",
    "\n",
    "def ticker_search(keyword):\n",
    "    \n",
    "    return alphavantage_request(\n",
    "        function='SYMBOL_SEARCH',\n",
    "        keywords=keyword\n",
    "    )"
   ],
   "id": "d0af0caf65e0ff75",
   "outputs": [],
   "execution_count": 5
  },
  {
   "metadata": {
    "ExecuteTime": {
     "end_time": "2024-07-30T19:18:57.236151Z",
     "start_time": "2024-07-30T19:18:57.215437Z"
    }
   },
   "cell_type": "code",
   "source": [
    "# Load previous datastore\n",
    "try:\n",
    "    ticker_datastore = pd.read_csv('data/ticker_list.csv', index_col=0).transpose().to_dict()\n",
    "except:\n",
    "    ticker_datastore = {}\n",
    "    \n",
    "# Fix stored search list functionality    \n",
    "def fix_searchList(store_entry):\n",
    "    if type(store_entry['searchList'] == str):\n",
    "        store_entry['searchList'] = json.loads(store_entry['searchList'].replace(\"'\",'\"'))\n",
    "    return store_entry\n",
    "ticker_datastore = {key:fix_searchList(value) for key, value in ticker_datastore.items()}"
   ],
   "id": "827cadab3facd2b0",
   "outputs": [],
   "execution_count": 23
  },
  {
   "metadata": {},
   "cell_type": "code",
   "outputs": [],
   "execution_count": null,
   "source": "",
   "id": "d1a3062e765c2aa"
  },
  {
   "metadata": {
    "ExecuteTime": {
     "end_time": "2024-07-30T19:28:27.014395Z",
     "start_time": "2024-07-30T19:28:26.997497Z"
    }
   },
   "cell_type": "code",
   "source": [
    "# Generate list of tickers to check\n",
    "alphabet = string.ascii_uppercase\n",
    "candidate_ticker_list = [f'{x}{y}{z}' for x in alphabet for y in alphabet for z in alphabet]\n",
    "candidate_ticker_list += [f'{x}{y}' for x in alphabet for y in alphabet]\n",
    "candidate_ticker_list += [x for x in alphabet]\n",
    "#candidate_ticker_list += [f'{x}{y}{z}{a}' for x in alphabet for y in alphabet \n",
    "#                          for z in alphabet for a in alphabet]\n",
    "\n",
    "# Remove already-tested symbols from the list to download\n",
    "searched_list = set(itertools.chain.from_iterable(\n",
    "    [value['searchList'] for key, value in ticker_datastore.items()]))\n",
    "symbol_list = list(ticker_datastore.keys())\n",
    "candidate_ticker_list = [x for x in candidate_ticker_list \n",
    "                         if x not in symbol_list and x not in searched_list]\n",
    "\n",
    "# Assess list size\n",
    "print(f'Hours to run loop: {len(candidate_ticker_list) / 74 / 60}')"
   ],
   "id": "76e3a8fc61ea64d9",
   "outputs": [
    {
     "name": "stdout",
     "output_type": "stream",
     "text": [
      "Hours to run loop: 4.102927927927928\n"
     ]
    }
   ],
   "execution_count": 38
  },
  {
   "metadata": {
    "ExecuteTime": {
     "end_time": "2024-07-30T19:17:05.186391Z",
     "start_time": "2024-07-30T19:17:05.173015Z"
    }
   },
   "cell_type": "code",
   "source": [
    "def get_matches(candidate_ticker):\n",
    "    # Get ticker list    \n",
    "    symbol_data_list = []\n",
    "    for raw_match in ticker_search(candidate_ticker)['bestMatches']:\n",
    "        symbol_data = {key.split(' ')[-1]:value for key, value in raw_match.items()}\n",
    "        del symbol_data['matchScore']\n",
    "        symbol_data_list.append(symbol_data)\n",
    "    return symbol_data_list\n",
    "    \n",
    "def store_matches(symbol_data_list, lock, counter):\n",
    "    # Store ticker list\n",
    "    with lock:\n",
    "        # Append symbol data\n",
    "        global ticker_datastore\n",
    "        for symbol_data in symbol_data_list:\n",
    "            symbol = symbol_data['symbol']\n",
    "            if symbol in ticker_datastore.keys():\n",
    "                ticker_datastore[symbol]['searchList'].append(candidate_ticker)\n",
    "            else:\n",
    "                symbol_data['searchList'] = [candidate_ticker]\n",
    "                ticker_datastore[symbol] = symbol_data\n",
    "        \n",
    "        # Increment save counter and store if appropriate\n",
    "        counter.value+=1\n",
    "        if counter.value % 750 == 0:\n",
    "            pd.DataFrame(ticker_datastore).transpose().to_csv('data/ticker_list.csv')"
   ],
   "id": "77f7370f1e6e3769",
   "outputs": [],
   "execution_count": 16
  },
  {
   "metadata": {
    "ExecuteTime": {
     "end_time": "2024-07-30T19:17:06.641216Z",
     "start_time": "2024-07-30T19:17:06.633728Z"
    }
   },
   "cell_type": "code",
   "source": [
    "import multiprocessing as mp\n",
    "i = 0\n",
    "lock = mp.Lock()\n",
    "from ctypes import c_int\n",
    "counter = mp.Value(c_int, 0)\n",
    "\n",
    "def iterate(candidate_ticker):\n",
    "    if candidate_ticker not in ticker_datastore.keys():\n",
    "        try:\n",
    "            symbol_data_list = get_matches(candidate_ticker)\n",
    "            store_matches(symbol_data_list, lock, counter)\n",
    "        except Exception as e:\n",
    "            print(f'Issue with {candidate_ticker}: {e}')"
   ],
   "id": "9adf1974b9b55979",
   "outputs": [],
   "execution_count": 17
  },
  {
   "metadata": {
    "jupyter": {
     "is_executing": true
    },
    "ExecuteTime": {
     "start_time": "2024-07-30T19:28:29.540845Z"
    }
   },
   "cell_type": "code",
   "source": [
    "for candidate_ticker in tqdm(candidate_ticker_list[150:]):\n",
    "    iterate(candidate_ticker)"
   ],
   "id": "97e12b919746e324",
   "outputs": [
    {
     "name": "stderr",
     "output_type": "stream",
     "text": [
      " 22%|██▏       | 3935/18067 [52:51<1:30:22,  2.61it/s] "
     ]
    }
   ],
   "execution_count": null
  },
  {
   "metadata": {
    "ExecuteTime": {
     "end_time": "2024-07-30T19:25:41.837114Z",
     "start_time": "2024-07-30T19:25:41.802560Z"
    }
   },
   "cell_type": "code",
   "source": "ticker_df = pd.DataFrame(ticker_datastore).transpose()",
   "id": "21d22561a73b1879",
   "outputs": [],
   "execution_count": 31
  },
  {
   "metadata": {
    "ExecuteTime": {
     "end_time": "2024-07-30T19:27:04.860958Z",
     "start_time": "2024-07-30T19:27:04.849997Z"
    }
   },
   "cell_type": "code",
   "source": "ticker_df[ticker_df.searchList.apply(lambda x: 'AES' in x)]",
   "id": "7046ec8b1827c842",
   "outputs": [
    {
     "data": {
      "text/plain": [
       "                symbol                                             name  \\\n",
       "AES                AES                                         AES Corp   \n",
       "AESI              AESI                       Atlas Energy Solutions Inc   \n",
       "AESO              AESO                    Atlantic Energy Solutions Inc   \n",
       "AESR              AESR          Anfield U.S. Equity Sector Rotation ETF   \n",
       "AES.FRK        AES.FRK                              The AES Corporation   \n",
       "AESTY            AESTY                           Aes Tiete Energia S.A.   \n",
       "AESB3.SAO    AESB3.SAO                           AES Brasil Energia S.A   \n",
       "0H6G.LON      0H6G.LON                                        AES Corp.   \n",
       "IPWLG            IPWLG                                      AES Indiana   \n",
       "RBED11.SAO  RBED11.SAO  Aesapar Fundo de Investimento Imobiliário - FII   \n",
       "\n",
       "                   type            region marketOpen marketClose timezone  \\\n",
       "AES              Equity     United States      09:30       16:00   UTC-04   \n",
       "AESI             Equity     United States      09:30       16:00   UTC-04   \n",
       "AESO             Equity     United States      09:30       16:00   UTC-04   \n",
       "AESR                ETF     United States      09:30       16:00   UTC-04   \n",
       "AES.FRK          Equity         Frankfurt      08:00       20:00   UTC+02   \n",
       "AESTY            Equity     United States      09:30       16:00   UTC-04   \n",
       "AESB3.SAO        Equity  Brazil/Sao Paolo      10:00       17:30   UTC-03   \n",
       "0H6G.LON         Equity    United Kingdom      08:00       16:30   UTC+01   \n",
       "IPWLG            Equity     United States      09:30       16:00   UTC-04   \n",
       "RBED11.SAO  Mutual Fund  Brazil/Sao Paolo      10:00       17:30   UTC-03   \n",
       "\n",
       "           currency searchList  \n",
       "AES             USD      [AES]  \n",
       "AESI            USD      [AES]  \n",
       "AESO            USD      [AES]  \n",
       "AESR            USD      [AES]  \n",
       "AES.FRK         EUR      [AES]  \n",
       "AESTY           USD      [AES]  \n",
       "AESB3.SAO       BRL      [AES]  \n",
       "0H6G.LON        USD      [AES]  \n",
       "IPWLG           USD      [AES]  \n",
       "RBED11.SAO      BRL      [AES]  "
      ],
      "text/html": [
       "<div>\n",
       "<style scoped>\n",
       "    .dataframe tbody tr th:only-of-type {\n",
       "        vertical-align: middle;\n",
       "    }\n",
       "\n",
       "    .dataframe tbody tr th {\n",
       "        vertical-align: top;\n",
       "    }\n",
       "\n",
       "    .dataframe thead th {\n",
       "        text-align: right;\n",
       "    }\n",
       "</style>\n",
       "<table border=\"1\" class=\"dataframe\">\n",
       "  <thead>\n",
       "    <tr style=\"text-align: right;\">\n",
       "      <th></th>\n",
       "      <th>symbol</th>\n",
       "      <th>name</th>\n",
       "      <th>type</th>\n",
       "      <th>region</th>\n",
       "      <th>marketOpen</th>\n",
       "      <th>marketClose</th>\n",
       "      <th>timezone</th>\n",
       "      <th>currency</th>\n",
       "      <th>searchList</th>\n",
       "    </tr>\n",
       "  </thead>\n",
       "  <tbody>\n",
       "    <tr>\n",
       "      <th>AES</th>\n",
       "      <td>AES</td>\n",
       "      <td>AES Corp</td>\n",
       "      <td>Equity</td>\n",
       "      <td>United States</td>\n",
       "      <td>09:30</td>\n",
       "      <td>16:00</td>\n",
       "      <td>UTC-04</td>\n",
       "      <td>USD</td>\n",
       "      <td>[AES]</td>\n",
       "    </tr>\n",
       "    <tr>\n",
       "      <th>AESI</th>\n",
       "      <td>AESI</td>\n",
       "      <td>Atlas Energy Solutions Inc</td>\n",
       "      <td>Equity</td>\n",
       "      <td>United States</td>\n",
       "      <td>09:30</td>\n",
       "      <td>16:00</td>\n",
       "      <td>UTC-04</td>\n",
       "      <td>USD</td>\n",
       "      <td>[AES]</td>\n",
       "    </tr>\n",
       "    <tr>\n",
       "      <th>AESO</th>\n",
       "      <td>AESO</td>\n",
       "      <td>Atlantic Energy Solutions Inc</td>\n",
       "      <td>Equity</td>\n",
       "      <td>United States</td>\n",
       "      <td>09:30</td>\n",
       "      <td>16:00</td>\n",
       "      <td>UTC-04</td>\n",
       "      <td>USD</td>\n",
       "      <td>[AES]</td>\n",
       "    </tr>\n",
       "    <tr>\n",
       "      <th>AESR</th>\n",
       "      <td>AESR</td>\n",
       "      <td>Anfield U.S. Equity Sector Rotation ETF</td>\n",
       "      <td>ETF</td>\n",
       "      <td>United States</td>\n",
       "      <td>09:30</td>\n",
       "      <td>16:00</td>\n",
       "      <td>UTC-04</td>\n",
       "      <td>USD</td>\n",
       "      <td>[AES]</td>\n",
       "    </tr>\n",
       "    <tr>\n",
       "      <th>AES.FRK</th>\n",
       "      <td>AES.FRK</td>\n",
       "      <td>The AES Corporation</td>\n",
       "      <td>Equity</td>\n",
       "      <td>Frankfurt</td>\n",
       "      <td>08:00</td>\n",
       "      <td>20:00</td>\n",
       "      <td>UTC+02</td>\n",
       "      <td>EUR</td>\n",
       "      <td>[AES]</td>\n",
       "    </tr>\n",
       "    <tr>\n",
       "      <th>AESTY</th>\n",
       "      <td>AESTY</td>\n",
       "      <td>Aes Tiete Energia S.A.</td>\n",
       "      <td>Equity</td>\n",
       "      <td>United States</td>\n",
       "      <td>09:30</td>\n",
       "      <td>16:00</td>\n",
       "      <td>UTC-04</td>\n",
       "      <td>USD</td>\n",
       "      <td>[AES]</td>\n",
       "    </tr>\n",
       "    <tr>\n",
       "      <th>AESB3.SAO</th>\n",
       "      <td>AESB3.SAO</td>\n",
       "      <td>AES Brasil Energia S.A</td>\n",
       "      <td>Equity</td>\n",
       "      <td>Brazil/Sao Paolo</td>\n",
       "      <td>10:00</td>\n",
       "      <td>17:30</td>\n",
       "      <td>UTC-03</td>\n",
       "      <td>BRL</td>\n",
       "      <td>[AES]</td>\n",
       "    </tr>\n",
       "    <tr>\n",
       "      <th>0H6G.LON</th>\n",
       "      <td>0H6G.LON</td>\n",
       "      <td>AES Corp.</td>\n",
       "      <td>Equity</td>\n",
       "      <td>United Kingdom</td>\n",
       "      <td>08:00</td>\n",
       "      <td>16:30</td>\n",
       "      <td>UTC+01</td>\n",
       "      <td>USD</td>\n",
       "      <td>[AES]</td>\n",
       "    </tr>\n",
       "    <tr>\n",
       "      <th>IPWLG</th>\n",
       "      <td>IPWLG</td>\n",
       "      <td>AES Indiana</td>\n",
       "      <td>Equity</td>\n",
       "      <td>United States</td>\n",
       "      <td>09:30</td>\n",
       "      <td>16:00</td>\n",
       "      <td>UTC-04</td>\n",
       "      <td>USD</td>\n",
       "      <td>[AES]</td>\n",
       "    </tr>\n",
       "    <tr>\n",
       "      <th>RBED11.SAO</th>\n",
       "      <td>RBED11.SAO</td>\n",
       "      <td>Aesapar Fundo de Investimento Imobiliário - FII</td>\n",
       "      <td>Mutual Fund</td>\n",
       "      <td>Brazil/Sao Paolo</td>\n",
       "      <td>10:00</td>\n",
       "      <td>17:30</td>\n",
       "      <td>UTC-03</td>\n",
       "      <td>BRL</td>\n",
       "      <td>[AES]</td>\n",
       "    </tr>\n",
       "  </tbody>\n",
       "</table>\n",
       "</div>"
      ]
     },
     "execution_count": 36,
     "metadata": {},
     "output_type": "execute_result"
    }
   ],
   "execution_count": 36
  }
 ],
 "metadata": {
  "kernelspec": {
   "display_name": "Python 3",
   "language": "python",
   "name": "python3"
  },
  "language_info": {
   "codemirror_mode": {
    "name": "ipython",
    "version": 2
   },
   "file_extension": ".py",
   "mimetype": "text/x-python",
   "name": "python",
   "nbconvert_exporter": "python",
   "pygments_lexer": "ipython2",
   "version": "2.7.6"
  }
 },
 "nbformat": 4,
 "nbformat_minor": 5
}

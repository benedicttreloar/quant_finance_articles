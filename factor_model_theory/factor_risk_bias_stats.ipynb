{
 "cells": [
  {
   "cell_type": "markdown",
   "id": "8917bac4a1564b43",
   "metadata": {
    "collapsed": false
   },
   "source": [
    "#### Theoretical Delivered Bias Statistics in a Fundamental Factor Model"
   ]
  },
  {
   "cell_type": "code",
   "execution_count": 1,
   "id": "dbec032e86a4dfb2",
   "metadata": {
    "collapsed": false,
    "ExecuteTime": {
     "end_time": "2024-06-28T10:22:05.180793Z",
     "start_time": "2024-06-28T10:22:01.919817Z"
    }
   },
   "outputs": [],
   "source": [
    "import matplotlib.pyplot as plt\n",
    "import numpy as np\n",
    "import pandas as pd\n",
    "from tqdm import tqdm\n",
    "from scipy.stats import linregress\n",
    "import statsmodels.api as sm"
   ]
  },
  {
   "cell_type": "markdown",
   "id": "419bac9b7ca7de6e",
   "metadata": {
    "collapsed": false
   },
   "source": [
    "In order to test out the bias statistics for a theoretical fundamental factor model, we need to generate a theoretical market with a structure perfectly matching that of the axioms of a fundamental factor model. We can then run tests for the true and empirical risks of the portfolio as captured by the fundamental factor model we generate for that portfolio. "
   ]
  },
  {
   "cell_type": "code",
   "execution_count": 2,
   "id": "f29ccdc00fd959ca",
   "metadata": {
    "collapsed": false,
    "ExecuteTime": {
     "end_time": "2024-06-28T10:22:05.193492Z",
     "start_time": "2024-06-28T10:22:05.182790Z"
    }
   },
   "outputs": [],
   "source": [
    "# Underlying Factor Structure Characteristics\n",
    "ex_ante_factor_structure = {\n",
    "    'volatility': (0,6,'z-score'),\n",
    "    'quality': (2,6,'z-score'),\n",
    "    'size': (-2,6,'z-score'),\n",
    "    'tech': (2,10, 'dummy',0.1),\n",
    "    'missing_factor': (0.5, 3, 'z-score'),\n",
    "    'overfit_factor': (0, 0, 'z-score')\n",
    "}\n",
    "stock_specific_vol = 20\n",
    "\n",
    "# Market Structure Characteristics\n",
    "market_size = 1000\n",
    "estimation_window = 1260\n",
    "\n",
    "# Portfolio Structure Characteristics\n",
    "port_size = 60\n",
    "port_number = 200"
   ]
  },
  {
   "cell_type": "markdown",
   "id": "c5bdcca84846d344",
   "metadata": {
    "collapsed": false
   },
   "source": [
    "##### Create a universe of securities with the given factor structure\n",
    "\n",
    "First we will generate a market of the given size, and randomly create a set of orthogonal factor exposures with the desired properties. "
   ]
  },
  {
   "cell_type": "code",
   "execution_count": 3,
   "id": "f029450f5a8f1999",
   "metadata": {
    "collapsed": false,
    "ExecuteTime": {
     "end_time": "2024-06-28T10:22:05.221233Z",
     "start_time": "2024-06-28T10:22:05.194493Z"
    }
   },
   "outputs": [],
   "source": [
    "# Generate exposures for a market of the given size\n",
    "market_exposures = pd.DataFrame(index=range(market_size), columns=ex_ante_factor_structure.keys())\n",
    "for factor in ex_ante_factor_structure.keys():\n",
    "    if ex_ante_factor_structure[factor][2] == 'z-score':\n",
    "        # For z-scored factors we draw exposures from a normal distribution\n",
    "        market_exposures[factor] = np.random.normal(0, 1, market_size)\n",
    "    elif ex_ante_factor_structure[factor][2] == 'dummy':\n",
    "        market_exposures[factor] = np.where(np.random.uniform(0, 1, market_size)<=ex_ante_factor_structure[factor][3],1,0)\n",
    "    else:\n",
    "        raise ValueError"
   ]
  },
  {
   "cell_type": "markdown",
   "id": "6e754199e2000aa0",
   "metadata": {
    "collapsed": false
   },
   "source": [
    "##### Generate factor and idiosyncratic returns\n",
    "\n",
    "Next we will generate factor returns for the given time period, and idiosyncratic returns for each security in the market based on the given structure. These will then be combined to generate security level returns for the market. "
   ]
  },
  {
   "cell_type": "code",
   "execution_count": 4,
   "id": "4ab3deab72303c3e",
   "metadata": {
    "collapsed": false,
    "ExecuteTime": {
     "end_time": "2024-06-28T10:22:08.118352Z",
     "start_time": "2024-06-28T10:22:05.225734Z"
    }
   },
   "outputs": [
    {
     "name": "stderr",
     "output_type": "stream",
     "text": [
      "100%|██████████| 1260/1260 [00:01<00:00, 1044.61it/s]\n",
      "100%|██████████| 1260/1260 [00:01<00:00, 934.68it/s]\n"
     ]
    }
   ],
   "source": [
    "# Generate factor returns for the given time period \n",
    "def get_market_returns(market_exposures, factor_structure=ex_ante_factor_structure, specific_vol=stock_specific_vol, est_window=estimation_window):\n",
    "\n",
    "    factor_returns = pd.DataFrame(index=factor_structure.keys(), columns=range(est_window))\n",
    "    for factor in factor_structure.keys():\n",
    "        mean = factor_structure[factor][0] / 252\n",
    "        vol = factor_structure[factor][1] / (252 ** 0.5)\n",
    "        if vol > 0:\n",
    "            # If the factor has volatility, draw from an appropriate normal distribution \n",
    "            factor_returns.loc[factor] = np.random.normal(mean, vol, est_window)\n",
    "        else:\n",
    "            factor_returns.loc[factor] = pd.Series(mean, index=factor_returns.columns)\n",
    "            \n",
    "    # Generate idiosyncratic returns across stocks for the given time period \n",
    "    idio_returns = pd.DataFrame(np.random.normal(0, specific_vol / (252 ** 0.5), (est_window, market_size)))\n",
    "    \n",
    "    # Calculate security returns\n",
    "    returns_out = pd.DataFrame(0, index=range(market_size), columns=range(est_window))\n",
    "    for date in tqdm(returns_out.columns):\n",
    "        returns_out[date] = market_exposures.dot(factor_returns[date]) + idio_returns.loc[date]\n",
    "    \n",
    "    return returns_out.astype(float)\n",
    "\n",
    "in_sample_returns = get_market_returns(market_exposures, ex_ante_factor_structure)\n",
    "out_sample_returns = get_market_returns(market_exposures, ex_ante_factor_structure)"
   ]
  },
  {
   "cell_type": "markdown",
   "id": "8d67437c13bed10a",
   "metadata": {
    "collapsed": false
   },
   "source": [
    "##### Estimate Factor Models\n",
    "\n",
    "Estimate the empirical factor and idiosyncratic returns under the factor model and generate a covariance matrix from the factor returns. We do this for a small model as well as an overfit model to see what the effect on risk is."
   ]
  },
  {
   "cell_type": "code",
   "outputs": [
    {
     "name": "stderr",
     "output_type": "stream",
     "text": [
      "100%|██████████| 1260/1260 [00:02<00:00, 568.72it/s]\n"
     ]
    }
   ],
   "source": [
    "# Estimate empirical factor returns from the security returns\n",
    "\n",
    "# Generate empty dataframes\n",
    "excluded_factors = [x for x in ex_ante_factor_structure.keys() if 'missing' in x or 'overfit' in x]\n",
    "small_model_factor_returns = pd.DataFrame(index=[x for x in ex_ante_factor_structure.keys() if x not in excluded_factors],\n",
    "                                          columns=range(estimation_window))\n",
    "small_model_idio_returns = pd.DataFrame(index=range(market_size), columns=range(estimation_window))\n",
    "small_model_rsq = {}\n",
    "\n",
    "full_model_factor_returns = pd.DataFrame(index=ex_ante_factor_structure.keys(),\n",
    "                                         columns=range(estimation_window))\n",
    "full_model_idio_returns = pd.DataFrame(index=range(market_size), columns=range(estimation_window))\n",
    "full_model_rsq = {}\n",
    "\n",
    "# Get market exposures coefficients for included factors only\n",
    "small_model_exposures = market_exposures.drop(excluded_factors, axis=1).copy()\n",
    "\n",
    "# Period by period, estimate within-period factor returns and idiosyncratic returns to go with it\n",
    "for date in tqdm(in_sample_returns.columns):\n",
    "    # Generate small model factor and idiosyncratic returns\n",
    "    mod = sm.OLS(in_sample_returns[date].to_numpy(), small_model_exposures.to_numpy())\n",
    "    res = mod.fit()\n",
    "    small_model_factor_returns[date] = res.params.transpose()\n",
    "    small_model_idio_returns[date] = res.resid\n",
    "    small_model_rsq[date] = res.rsquared\n",
    "    \n",
    "    # Generate full model factor returns and idiosyncratic returns\n",
    "    mod = sm.OLS(in_sample_returns[date].to_numpy(), market_exposures.to_numpy())\n",
    "    res = mod.fit()\n",
    "    full_model_factor_returns[date] = res.params.transpose()\n",
    "    full_model_idio_returns[date] = res.resid\n",
    "    full_model_rsq[date] = res.rsquared"
   ],
   "metadata": {
    "collapsed": false,
    "ExecuteTime": {
     "end_time": "2024-06-28T10:22:10.561628Z",
     "start_time": "2024-06-28T10:22:08.121353Z"
    }
   },
   "id": "af2bc8e987b8410",
   "execution_count": 5
  },
  {
   "cell_type": "markdown",
   "source": [
    "Generate covariance matrices and idiosyncratic volatility estimates for all models "
   ],
   "metadata": {
    "collapsed": false
   },
   "id": "c76029e77a4f3f57"
  },
  {
   "cell_type": "code",
   "outputs": [],
   "source": [
    "# Generate theoretical covariance matrix and idiosyncratic vols\n",
    "true_model_cov_matrix = pd.DataFrame(0., index=ex_ante_factor_structure.keys(), columns=ex_ante_factor_structure.keys())\n",
    "for factor in ex_ante_factor_structure.keys():\n",
    "    true_model_cov_matrix.loc[factor, factor] = ex_ante_factor_structure[factor][1] ** 2\n",
    "true_model_idio_vols = pd.Series(stock_specific_vol, index=range(market_size))"
   ],
   "metadata": {
    "collapsed": false,
    "ExecuteTime": {
     "end_time": "2024-06-28T10:22:10.569796Z",
     "start_time": "2024-06-28T10:22:10.562629Z"
    }
   },
   "id": "1b9fc5bd8d92af50",
   "execution_count": 6
  },
  {
   "cell_type": "code",
   "outputs": [],
   "source": [
    "##### Calculate Underfit Model Parameters\n",
    "\n",
    "# Generate empirical covariance matrix\n",
    "small_model_cov_matrix = small_model_factor_returns.transpose().cov() * 252\n",
    "for factor in excluded_factors:\n",
    "    small_model_cov_matrix[factor] = 0.\n",
    "    small_model_cov_matrix.loc[factor] = 0.\n",
    "small_model_cov_matrix = small_model_cov_matrix.loc[true_model_cov_matrix.index, true_model_cov_matrix.columns].copy()\n",
    "\n",
    "# Generate idiosyncratic vols\n",
    "small_model_idio_vols = small_model_idio_returns.std(axis=1) * (252 ** 0.5)"
   ],
   "metadata": {
    "collapsed": false,
    "ExecuteTime": {
     "end_time": "2024-06-28T10:22:10.633031Z",
     "start_time": "2024-06-28T10:22:10.570798Z"
    }
   },
   "id": "ecb24e5ae88de29a",
   "execution_count": 7
  },
  {
   "cell_type": "code",
   "outputs": [],
   "source": [
    "##### Calculate Overfit Model Parameters\n",
    "\n",
    "# Generate empirical covariance matrix\n",
    "full_model_cov_matrix = full_model_factor_returns.transpose().cov() * 252\n",
    "\n",
    "# Generate idiosyncratic vols\n",
    "full_model_idio_vols = full_model_idio_returns.std(axis=1) * (252 ** 0.5)"
   ],
   "metadata": {
    "collapsed": false,
    "ExecuteTime": {
     "end_time": "2024-06-28T10:22:10.690709Z",
     "start_time": "2024-06-28T10:22:10.634031Z"
    }
   },
   "id": "3ee6d5c5dd5e1559",
   "execution_count": 8
  },
  {
   "cell_type": "code",
   "execution_count": 9,
   "id": "5a9ef9037f1e3c33",
   "metadata": {
    "collapsed": false,
    "ExecuteTime": {
     "end_time": "2024-06-28T10:22:11.830156Z",
     "start_time": "2024-06-28T10:22:10.691708Z"
    }
   },
   "outputs": [
    {
     "name": "stdout",
     "output_type": "stream",
     "text": [
      "Percentage increase in average model R-squared is 9.32%\n"
     ]
    },
    {
     "data": {
      "text/plain": "<Figure size 1200x400 with 4 Axes>",
      "image/png": "[encoded data removed]"
     },
     "metadata": {},
     "output_type": "display_data"
    }
   ],
   "source": [
    "# Generate a vector of theoretical vs true factor vols\n",
    "factor_vols = pd.DataFrame(index=ex_ante_factor_structure.keys())\n",
    "factor_vols['underfit_model'] = np.diag(small_model_cov_matrix) ** 0.5\n",
    "factor_vols['overfit_model'] = np.diag(full_model_cov_matrix) ** 0.5\n",
    "factor_vols['true_model'] = np.diag(true_model_cov_matrix) ** 0.5\n",
    "\n",
    "# Compare the distribution of idiosyncratic vols\n",
    "idio_vols = pd.DataFrame(index=range(market_size))\n",
    "idio_vols['underfit_model'] = small_model_idio_vols.sort_values().reset_index(drop=True)\n",
    "idio_vols['overfit_model'] = full_model_idio_vols.sort_values().reset_index(drop=True)\n",
    "idio_vols['true_volatilities'] = true_model_idio_vols.sort_values().reset_index(drop=True)\n",
    "\n",
    "# Generate series of RSquared values\n",
    "rsq = pd.DataFrame({'underfit_model': small_model_rsq, 'overfit_model': full_model_rsq})\n",
    "\n",
    "fig, (ax1, ax2, ax3, ax4) = plt.subplots(1,4, figsize=(12,4), constrained_layout=True)\n",
    "fig.suptitle('Estimated versus Actual Market Characteristics')\n",
    "factor_vols.plot.bar(ax=ax1, title='Factor Volatilities')\n",
    "ax1.legend(bbox_to_anchor=(1.05, 1), loc='upper left', title='Model')\n",
    "ax1.axhline(0, color='k')\n",
    "idio_vols.plot.line(ax=ax2, title='Security Residual Volatilities', legend=False)\n",
    "ax2.axhline(0, color='k')\n",
    "idio_vols.plot.line(ax=ax3, title='Residual Vols (detail)', legend=False)\n",
    "ax2.text(x=0.5, y=7, \n",
    "         s=f'Average Residual Vol:\\nTrue: {true_model_idio_vols.mean():.2f}\\nUnderfit model: {small_model_idio_vols.mean():.2f}\\nOverfit model: {full_model_idio_vols.mean():.2f}\\n', \n",
    "         color='b')\n",
    "rsq.sort_values('underfit_model').reset_index(drop=True).plot(ax=ax4, title='Model Daily RSquared', legend=False)\n",
    "ax4.text(x=0.5, y=0.4, \n",
    "         s=f'Average Daily R-squared:\\nUnderfit model: {rsq.underfit_model.mean():.3f}\\nOverfit model: {rsq.overfit_model.mean():.3f}\\n', \n",
    "         color='b')\n",
    "plt.savefig('risk_model_parameter_comparison.png')\n",
    "\n",
    "print(f'Percentage increase in average model R-squared is {((rsq.overfit_model.mean() / rsq.underfit_model.mean()) - 1) * 100:.2f}%')"
   ]
  },
  {
   "cell_type": "markdown",
   "id": "9762cffbbda8911a",
   "metadata": {
    "collapsed": false
   },
   "source": [
    "#### Create Portfolios for Risk Estimate Testing \n",
    " \n",
    "Generate a set of random equal-weight portfolios which we can then estimate theoretical and empirical risk statistics for"
   ]
  },
  {
   "cell_type": "code",
   "execution_count": 10,
   "id": "f18f9ad174fc8da",
   "metadata": {
    "collapsed": false,
    "ExecuteTime": {
     "end_time": "2024-06-28T10:22:11.918645Z",
     "start_time": "2024-06-28T10:22:11.833154Z"
    }
   },
   "outputs": [
    {
     "name": "stderr",
     "output_type": "stream",
     "text": [
      "100%|██████████| 200/200 [00:00<00:00, 2538.44it/s]\n"
     ]
    }
   ],
   "source": [
    "# Generate a set of random equal-weight portfolios\n",
    "portfolios = pd.DataFrame(0., index=range(market_size), columns=range(port_number))\n",
    "for port in tqdm(portfolios.columns):\n",
    "    portfolios.loc[np.random.choice(range(market_size), port_size, replace=False).tolist(), port] = 1 / port_size"
   ]
  },
  {
   "cell_type": "code",
   "execution_count": 11,
   "id": "40b676120930407e",
   "metadata": {
    "collapsed": false,
    "ExecuteTime": {
     "end_time": "2024-06-28T10:22:12.089263Z",
     "start_time": "2024-06-28T10:22:11.919645Z"
    }
   },
   "outputs": [],
   "source": [
    "# Calculate the factor exposure vector for each portfolio\n",
    "port_exposures = portfolios.transpose().dot(market_exposures)\n",
    "\n",
    "# Calculate ex-post returns and delivered for each portfolio\n",
    "port_in_sample_returns = portfolios.transpose().dot(in_sample_returns)\n",
    "port_in_sample_ex_post_vol = pd.Series(port_in_sample_returns.std(axis=1) * (252 ** 0.5), name='in_sample_ex_post_vol')\n",
    "\n",
    "port_out_sample_returns = portfolios.transpose().dot(out_sample_returns)\n",
    "port_out_sample_ex_post_vol = pd.Series(port_out_sample_returns.std(axis=1) * (252 ** 0.5), name='out_sample_ex_post_vol')"
   ]
  },
  {
   "cell_type": "markdown",
   "id": "dbe2ce0fa88e5959",
   "metadata": {
    "collapsed": false
   },
   "source": [
    "#### Generate Risk Estimates"
   ]
  },
  {
   "cell_type": "code",
   "execution_count": 12,
   "id": "5947556a1fefc1d",
   "metadata": {
    "collapsed": false,
    "ExecuteTime": {
     "end_time": "2024-06-28T10:22:12.319933Z",
     "start_time": "2024-06-28T10:22:12.090263Z"
    }
   },
   "outputs": [
    {
     "name": "stderr",
     "output_type": "stream",
     "text": [
      "200it [00:00, 945.79it/s]\n"
     ]
    }
   ],
   "source": [
    "# Generate CAR breakdown for the true model\n",
    "port_car = {}\n",
    "for port_id, port_pos in tqdm(portfolios.transpose().iterrows()):\n",
    "    port_exposures = port_pos.dot(market_exposures)\n",
    "    port_var_contribs_temp = port_exposures.dot(true_model_cov_matrix) * port_exposures\n",
    "    port_var_contribs_temp.loc['idio'] = np.sum((port_pos * true_model_idio_vols) ** 2)\n",
    "    port_car[port_id] = port_var_contribs_temp / (np.sum(port_var_contribs_temp) ** 0.5)\n",
    "    \n",
    "true_model_port_car = pd.DataFrame(port_car)"
   ]
  },
  {
   "cell_type": "code",
   "execution_count": 13,
   "id": "9e8042e126e05c45",
   "metadata": {
    "collapsed": false,
    "ExecuteTime": {
     "end_time": "2024-06-28T10:22:12.556754Z",
     "start_time": "2024-06-28T10:22:12.320934Z"
    }
   },
   "outputs": [
    {
     "name": "stderr",
     "output_type": "stream",
     "text": [
      "200it [00:00, 921.79it/s]\n"
     ]
    }
   ],
   "source": [
    "# Generate CAR breakdown for the small model\n",
    "port_car = {}\n",
    "for port_id, port_pos in tqdm(portfolios.transpose().iterrows()):\n",
    "    port_exposures = port_pos.dot(market_exposures)\n",
    "    port_var_contribs_temp = port_exposures.dot(small_model_cov_matrix) * port_exposures\n",
    "    port_var_contribs_temp.loc['idio'] = np.sum((port_pos * small_model_idio_vols) ** 2)\n",
    "    port_car[port_id] = port_var_contribs_temp / (np.sum(port_var_contribs_temp) ** 0.5)\n",
    "    \n",
    "small_model_port_car = pd.DataFrame(port_car)"
   ]
  },
  {
   "cell_type": "code",
   "execution_count": 14,
   "id": "9274eb8a3f6cec96",
   "metadata": {
    "collapsed": false,
    "ExecuteTime": {
     "end_time": "2024-06-28T10:22:12.798747Z",
     "start_time": "2024-06-28T10:22:12.557754Z"
    }
   },
   "outputs": [
    {
     "name": "stderr",
     "output_type": "stream",
     "text": [
      "200it [00:00, 887.16it/s]\n"
     ]
    }
   ],
   "source": [
    "# Generate CAR breakdown for the full model\n",
    "port_car = {}\n",
    "for port_id, port_pos in tqdm(portfolios.transpose().iterrows()):\n",
    "    port_exposures = port_pos.dot(market_exposures)\n",
    "    port_var_contribs_temp = port_exposures.dot(full_model_cov_matrix) * port_exposures\n",
    "    port_var_contribs_temp.loc['idio'] = np.sum((port_pos * full_model_idio_vols) ** 2)\n",
    "    port_car[port_id] = port_var_contribs_temp / (np.sum(port_var_contribs_temp) ** 0.5)\n",
    "    \n",
    "full_model_port_car = pd.DataFrame(port_car)"
   ]
  },
  {
   "cell_type": "markdown",
   "id": "f2d2a02a205b655f",
   "metadata": {
    "collapsed": false
   },
   "source": [
    "#### Compare Risk Estimates"
   ]
  },
  {
   "cell_type": "code",
   "outputs": [
    {
     "ename": "NameError",
     "evalue": "name 'port_car_comparison' is not defined",
     "output_type": "error",
     "traceback": [
      "\u001B[1;31m---------------------------------------------------------------------------\u001B[0m",
      "\u001B[1;31mNameError\u001B[0m                                 Traceback (most recent call last)",
      "Cell \u001B[1;32mIn[15], line 1\u001B[0m\n\u001B[1;32m----> 1\u001B[0m \u001B[43mport_car_comparison\u001B[49m\u001B[38;5;241m.\u001B[39mhead()\n",
      "\u001B[1;31mNameError\u001B[0m: name 'port_car_comparison' is not defined"
     ]
    }
   ],
   "source": [
    "port_car_comparison.head()"
   ],
   "metadata": {
    "collapsed": false,
    "ExecuteTime": {
     "end_time": "2024-06-28T10:22:13.294056Z",
     "start_time": "2024-06-28T10:22:12.799750Z"
    }
   },
   "id": "bb796338635f202d",
   "execution_count": 15
  },
  {
   "cell_type": "code",
   "execution_count": null,
   "id": "30c4d7d801f7ca42",
   "metadata": {
    "collapsed": false,
    "ExecuteTime": {
     "end_time": "2024-06-28T10:22:13.295056Z",
     "start_time": "2024-06-28T10:22:13.295056Z"
    }
   },
   "outputs": [],
   "source": [
    "# Generate model car comparison\n",
    "port_car_comparison = pd.DataFrame([port_in_sample_ex_post_vol, port_out_sample_ex_post_vol]).transpose()\n",
    "port_car_comparison['small_model_vol'] = np.sum(small_model_port_car, axis=0)\n",
    "port_car_comparison['full_model_vol'] = np.sum(full_model_port_car, axis=0)\n",
    "port_car_comparison['true_model_vol'] = np.sum(true_model_port_car, axis=0)\n",
    "\n",
    "port_car_comparison.head()"
   ]
  },
  {
   "cell_type": "markdown",
   "id": "98df32d333821c35",
   "metadata": {
    "collapsed": false
   },
   "source": [
    "#### Ex-Post and Ex-Ante Risk versus Risk MOdel Estimates"
   ]
  },
  {
   "cell_type": "code",
   "execution_count": null,
   "id": "abb9997b995409fa",
   "metadata": {
    "collapsed": false,
    "ExecuteTime": {
     "end_time": "2024-06-28T10:22:13.296053Z",
     "start_time": "2024-06-28T10:22:13.296053Z"
    }
   },
   "outputs": [],
   "source": [
    "# Generate summary bias statistics\n",
    "in_sample_ex_post_bias_distribution = pd.DataFrame((port_car_comparison.in_sample_ex_post_vol / port_car_comparison.small_model_vol - 1).sort_values().reset_index(drop=True).rename('vs_underfit_model'))\n",
    "in_sample_ex_post_bias_distribution['vs_overfit_model'] = (port_car_comparison.in_sample_ex_post_vol / port_car_comparison.full_model_vol - 1).sort_values().reset_index(drop=True)\n",
    "in_sample_ex_post_bias_distribution['vs_true_structure'] = (port_car_comparison.in_sample_ex_post_vol / port_car_comparison.true_model_vol - 1).sort_values().reset_index(drop=True)\n",
    "\n",
    "out_sample_ex_post_bias_distribution = pd.DataFrame((port_car_comparison.out_sample_ex_post_vol / port_car_comparison.small_model_vol - 1).sort_values().reset_index(drop=True).rename('vs_underfit_model'))\n",
    "out_sample_ex_post_bias_distribution['vs_overfit_model'] = (port_car_comparison.out_sample_ex_post_vol / port_car_comparison.full_model_vol - 1).sort_values().reset_index(drop=True)\n",
    "out_sample_ex_post_bias_distribution['vs_true_structure'] = (port_car_comparison.out_sample_ex_post_vol / port_car_comparison.true_model_vol - 1).sort_values().reset_index(drop=True)\n",
    "\n",
    "# Get contributions to bias for full model\n",
    "true_bias_distribution = pd.DataFrame((port_car_comparison.small_model_vol / port_car_comparison.true_model_vol - 1).sort_values().reset_index(drop=True).rename('underfit_model_bias_vs_true_structure'))\n",
    "true_bias_distribution['overfit_model_bias_vs_true_structure'] = (port_car_comparison.full_model_vol / port_car_comparison.true_model_vol - 1).sort_values().reset_index(drop=True)\n",
    "true_bias_distribution['in_sample_vol_vs_true_structure'] = (port_car_comparison.in_sample_ex_post_vol / port_car_comparison.true_model_vol - 1).sort_values().reset_index(drop=True)\n",
    "true_bias_distribution['out_sample_vol_vs_true_structure'] = (port_car_comparison.out_sample_ex_post_vol / port_car_comparison.true_model_vol - 1).sort_values().reset_index(drop=True)\n",
    "\n",
    "# Generate comparison\n",
    "fig, (ax1, ax2, ax3) = plt.subplots(1,3, figsize=(12,4), sharey=True, sharex=True, constrained_layout=True)\n",
    "fig.suptitle(f'Distribution of Bias Statistics across {port_number} Random {port_size} Stock Portfolios')\n",
    "\n",
    "# Plot data for tests of the model against the out-of-sample volatilities\n",
    "in_sample_ex_post_bias_distribution.plot(ax=ax1, title='In-Sample Delivered Vol vs Models')\n",
    "ax1.legend(bbox_to_anchor=(0.0, -0.1), loc='upper left', title='Model')\n",
    "ax1.text(x=0, y=0, s=f'True: avg {in_sample_ex_post_bias_distribution.vs_true_structure.mean():.4f}, sd {in_sample_ex_post_bias_distribution.vs_true_structure.std():.3f}\\nUnderfit: avg {in_sample_ex_post_bias_distribution.vs_underfit_model.mean():.4f}, sd {in_sample_ex_post_bias_distribution.vs_underfit_model.std():.3f}\\nOverfit: avg {in_sample_ex_post_bias_distribution.vs_overfit_model.mean():.4f}, sd {in_sample_ex_post_bias_distribution.vs_overfit_model.std():.3f}\\n', color='b')\n",
    "ax1.axhline(0, color='r')\n",
    "\n",
    "# Plot data for tests of the model against the in-sample volatilities\n",
    "out_sample_ex_post_bias_distribution.plot(ax=ax2, title='Out-Of-Sample Delivered Vol vs Models')\n",
    "ax2.legend(bbox_to_anchor=(0.0, -0.1), loc='upper left', title='Model')\n",
    "ax2.text(x=0, y=0, s=f'True: avg {out_sample_ex_post_bias_distribution.vs_true_structure.mean():.4f}, sd {out_sample_ex_post_bias_distribution.vs_true_structure.std():.3f}\\nUnderfit: avg {out_sample_ex_post_bias_distribution.vs_underfit_model.mean():.4f}, sd {out_sample_ex_post_bias_distribution.vs_underfit_model.std():.3f}\\nOverfit: avg {out_sample_ex_post_bias_distribution.vs_overfit_model.mean():.4f}, sd {out_sample_ex_post_bias_distribution.vs_overfit_model.std():.3f}\\n', color='b')\n",
    "ax2.axhline(0, color='r')\n",
    "\n",
    "# Plot data for tests of the models and delivered outcomes against the true model structure\n",
    "true_bias_distribution.plot(ax=ax3, title='Model Risks vs True Market Structure')\n",
    "ax3.legend(bbox_to_anchor=(0.0, -0.1), loc='upper left', title='Model')\n",
    "ax3.text(x=0, y=0, s=f'In-Sample Vol: avg {true_bias_distribution.in_sample_vol_vs_true_structure.mean():.3f}, sd {true_bias_distribution.in_sample_vol_vs_true_structure.std():.3f}\\nOut-of-Sample Vol: avg {true_bias_distribution.out_sample_vol_vs_true_structure.mean():.3f}, sd {true_bias_distribution.out_sample_vol_vs_true_structure.std():.3f}\\nUnderfit: avg {true_bias_distribution.underfit_model_bias_vs_true_structure.mean():.3f}, sd {true_bias_distribution.underfit_model_bias_vs_true_structure.std():.3f}\\nOverfit: avg {true_bias_distribution.overfit_model_bias_vs_true_structure.mean():.3f}, sd {true_bias_distribution.overfit_model_bias_vs_true_structure.std():.3f}\\n', color='b')\n",
    "ax3.axhline(0, color='r')\n",
    "\n",
    "plt.savefig('bias_vs_ex_post_and_true.png')"
   ]
  },
  {
   "cell_type": "markdown",
   "id": "6a094a01e632e190",
   "metadata": {
    "collapsed": false
   },
   "source": [
    "#### Single Model Risk Bias Comparisons"
   ]
  },
  {
   "cell_type": "code",
   "execution_count": null,
   "id": "e9af2ade2695f65a",
   "metadata": {
    "collapsed": false,
    "ExecuteTime": {
     "start_time": "2024-06-28T10:22:13.297050Z"
    }
   },
   "outputs": [],
   "source": [
    "# Compare the distribution of risk contributions for the small and full models\n",
    "bias_contribs = full_model_port_car - small_model_port_car\n",
    "bias_contribs  = (bias_contribs / np.sum(small_model_port_car, axis=0)).copy()\n",
    "bias = (np.sum(full_model_port_car, axis=0) / np.sum(small_model_port_car, axis=0)) - 1\n",
    "\n",
    "fig, (ax1, ax2, ax3) = plt.subplots(1,3, figsize=(12,4), sharey=True, sharex=True, constrained_layout=True)\n",
    "fig.suptitle('Overfit Model vs Underfit Model')\n",
    "bias.sort_values().reset_index(drop=True).plot.line(title='Model Bias', ax=ax1)\n",
    "ax1.axhline(0, color='r')\n",
    "bias_contribs.transpose().loc[bias.sort_values().index.to_list()].reset_index(drop=True).plot.bar(stacked=True, title='Contributions to Bias', ax=ax2, legend=False)\n",
    "bias_contribs.transpose().loc[bias.sort_values().index.to_list()].reset_index(drop=True).rolling(5).mean().plot.bar(stacked=True, title='Contributions(Smoothed)', ax=ax3)"
   ]
  },
  {
   "cell_type": "code",
   "execution_count": null,
   "id": "81581b92cc18b82a",
   "metadata": {
    "collapsed": false
   },
   "outputs": [],
   "source": [
    "# Calculate bias statistics for the small model versus the true underlying model\n",
    "small_vs_true_bias_contribs = small_model_port_car - true_model_port_car\n",
    "small_vs_true_bias_contribs  = (small_vs_true_bias_contribs / np.sum(true_model_port_car, axis=0)).copy()\n",
    "bias = (np.sum(small_model_port_car, axis=0) / np.sum(true_model_port_car, axis=0)) - 1\n",
    "small_vs_true_bias_contribs = small_vs_true_bias_contribs[bias.sort_values().index.to_list()].copy()\n",
    "small_vs_true_bias_contribs.columns = range(small_vs_true_bias_contribs.shape[1])\n",
    "\n",
    "fig, (ax1, ax2, ax3) = plt.subplots(1,3, figsize=(12,4), sharey=True, sharex=True, constrained_layout=True)\n",
    "fig.suptitle('Risk Estimate differences for the Underfit Model vs True Model')\n",
    "bias.sort_values().reset_index(drop=True).plot.line(title='Model Bias', ax=ax1)\n",
    "ax1.axhline(0, color='r')\n",
    "small_vs_true_bias_contribs.transpose().plot.bar(stacked=True, title='Contributions to Bias', ax=ax2, legend=False)\n",
    "small_vs_true_bias_contribs.transpose().rolling(int(port_number/10)).mean().plot.bar(stacked=True, title='Contributions(Smoothed)', ax=ax3)\n",
    "ax1.axhline(0, color='r')\n",
    "ax2.axhline(0, color='k')\n",
    "ax3.axhline(0, color='k')\n",
    "ax3.legend(bbox_to_anchor=(1.05, 1), loc='upper left', title='Factor')"
   ]
  },
  {
   "cell_type": "code",
   "execution_count": null,
   "id": "d1fae23d29509d43",
   "metadata": {
    "collapsed": false
   },
   "outputs": [],
   "source": [
    "full_vs_true_bias_contribs = full_model_port_car - true_model_port_car\n",
    "full_vs_true_bias_contribs  = (full_vs_true_bias_contribs / np.sum(true_model_port_car, axis=0)).copy()\n",
    "bias = (np.sum(full_model_port_car, axis=0) / np.sum(true_model_port_car, axis=0)) - 1\n",
    "full_vs_true_bias_contribs = full_vs_true_bias_contribs[bias.sort_values().index.to_list()].copy()\n",
    "full_vs_true_bias_contribs.columns = range(full_vs_true_bias_contribs.shape[1])\n",
    "\n",
    "fig, (ax1, ax2, ax3) = plt.subplots(1,3, figsize=(12,4), sharey=True, sharex=True, constrained_layout=True)\n",
    "fig.suptitle('Risk Estimate differences for the Overfit Model vs True Model')\n",
    "bias.sort_values().reset_index(drop=True).plot.line(title='Model Bias', ax=ax1)\n",
    "ax1.axhline(0, color='r')\n",
    "full_vs_true_bias_contribs.transpose().plot.bar(stacked=True, title='Contributions to Bias', ax=ax2, legend=False)\n",
    "full_vs_true_bias_contribs.transpose().rolling(int(port_number/10)).mean().plot.bar(stacked=True, title='Contributions(Smoothed)', ax=ax3)\n",
    "ax1.axhline(0, color='r')\n",
    "ax2.axhline(0, color='k')\n",
    "ax3.axhline(0, color='k')\n",
    "ax3.legend(bbox_to_anchor=(1.05, 1), loc='upper left', title='Factor')"
   ]
  },
  {
   "cell_type": "code",
   "execution_count": null,
   "id": "6c19f717f33c9bdd",
   "metadata": {
    "collapsed": false,
    "ExecuteTime": {
     "start_time": "2024-06-28T10:22:13.301039Z"
    }
   },
   "outputs": [],
   "source": [
    "# Ex Post vs True Model (with Full Model Decomposition)\n",
    "ex_post_vs_ex_ante_bias = full_model_port_car - true_model_port_car\n",
    "ex_post_vs_ex_ante_bias.loc['residual'] = port_car_comparison.ex_post_vol - port_car_comparison.full_model_vol\n",
    "ex_post_vs_ex_ante_bias  = (ex_post_vs_ex_ante_bias / port_car_comparison.true_model_vol).copy()\n",
    "bias = (port_car_comparison.ex_post_vol / port_car_comparison.true_model_vol) - 1\n",
    "ex_post_vs_ex_ante_bias = ex_post_vs_ex_ante_bias[bias.sort_values().index.to_list()].copy()\n",
    "ex_post_vs_ex_ante_bias.columns = range(ex_post_vs_ex_ante_bias.shape[1])\n",
    "\n",
    "fig, (ax1, ax2, ax3) = plt.subplots(1,3, figsize=(12,4), sharey=True, sharex=True, constrained_layout=True)\n",
    "fig.suptitle('Risk Estimate differences for the Delivered Volatility vs True Underlying Vol')\n",
    "bias.sort_values().reset_index(drop=True).plot.line(title='Model Bias', ax=ax1)\n",
    "ax1.axhline(0, color='r')\n",
    "ex_post_vs_ex_ante_bias.transpose().plot.bar(stacked=True, title='Contributions to Bias', ax=ax2, legend=False)\n",
    "ex_post_vs_ex_ante_bias.transpose().rolling(int(port_number/10)).mean().plot.bar(stacked=True, title='Bias Contributions (Smoothed)', ax=ax3)\n",
    "ax1.axhline(0, color='r')\n",
    "ax2.axhline(0, color='k')\n",
    "ax3.axhline(0, color='k')\n",
    "ax3.legend(bbox_to_anchor=(1.05, 1), loc='upper left', title='Factor')"
   ]
  },
  {
   "cell_type": "code",
   "execution_count": null,
   "id": "e79a1e5e5dfdaa3",
   "metadata": {
    "collapsed": false
   },
   "outputs": [],
   "source": [
    "# Get bias comparison for the small and overfit models versus the true underlying model\n",
    "bias_comparison = pd.DataFrame(pd.Series((np.sum(small_model_port_car, axis=0) / np.sum(true_model_port_car, axis=0)) - 1).sort_values().reset_index(drop=True).rename('small_model_bias'))\n",
    "bias_comparison['full_model_bias'] = ((np.sum(full_model_port_car, axis=0) / np.sum(true_model_port_car, axis=0)) - 1).sort_values().reset_index(drop=True)\n",
    "\n",
    "fig, (ax1, ax2, ax3) = plt.subplots(1,3, figsize=(12,4), sharey=True, sharex=True, constrained_layout=True)\n",
    "fig.suptitle('Bias Comparison of Randomly Generated Portfolios')\n",
    "full_vs_true_bias_contribs.transpose().rolling(int(port_number/10)).mean().plot.bar(stacked=True, title='Overfit Model vs Ex-Ante Risk', ax=ax1, width=1., linewidth=0., legend=False)\n",
    "small_vs_true_bias_contribs.transpose().rolling(int(port_number/10)).mean().plot.bar(stacked=True, title='Underfit Model vs Ex-Ante Risk', ax=ax2, width=1., linewidth=0., legend=False)\n",
    "ex_post_vs_ex_ante_bias.transpose().rolling(int(port_number/10)).mean().plot.bar(stacked=True, title='Ex-Post Vol vs Ex-Ante Risk', ax=ax3, width=1., linewidth=0.)\n",
    "ax1.set_xticklabels([])\n",
    "ax2.set_xticklabels([])\n",
    "ax3.set_xticklabels([])\n",
    "ax1.axhline(0, color='r')\n",
    "ax2.axhline(0, color='k')\n",
    "ax3.axhline(0, color='k')\n",
    "ax3.legend(bbox_to_anchor=(1.05, 1), loc='upper left', title='Factor')\n",
    "plt.savefig('bias_decomposition_comparison.png')"
   ]
  }
 ],
 "metadata": {
  "kernelspec": {
   "display_name": "Python 3 (ipykernel)",
   "language": "python",
   "name": "python3"
  },
  "language_info": {
   "codemirror_mode": {
    "name": "ipython",
    "version": 3
   },
   "file_extension": ".py",
   "mimetype": "text/x-python",
   "name": "python",
   "nbconvert_exporter": "python",
   "pygments_lexer": "ipython3",
   "version": "3.12.1"
  }
 },
 "nbformat": 4,
 "nbformat_minor": 5
}
